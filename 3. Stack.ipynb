{
 "cells": [
  {
   "cell_type": "markdown",
   "metadata": {},
   "source": [
    "# File Input Reader Code"
   ]
  },
  {
   "cell_type": "code",
   "execution_count": 4,
   "metadata": {},
   "outputs": [],
   "source": [
    "import builtins\n",
    "from typing import *\n",
    "\n",
    "class GlobalFileInput:\n",
    "    def __init__(self, file_path='input.txt'):\n",
    "        self.file_path = file_path\n",
    "        self.file = None\n",
    "        self.original_input = builtins.input\n",
    "    \n",
    "    def start(self):\n",
    "        self.file = open(self.file_path, 'r')\n",
    "        builtins.input = self.file_input\n",
    "\n",
    "    def stop(self):\n",
    "        if self.file:\n",
    "            builtins.input = self.original_input\n",
    "            self.file.close()\n",
    "\n",
    "    def file_input(self, prompt=''):\n",
    "        return self.file.readline().strip()\n",
    "\n",
    "# Create an instance of GlobalFileInput and start it\n",
    "s = GlobalFileInput('input.txt')"
   ]
  },
  {
   "cell_type": "markdown",
   "metadata": {},
   "source": [
    "# Stack"
   ]
  },
  {
   "cell_type": "markdown",
   "metadata": {},
   "source": [
    "## 1. [Valid Parentheses](https://leetcode.com/problems/valid-parentheses/description/)"
   ]
  },
  {
   "cell_type": "code",
   "execution_count": 5,
   "metadata": {},
   "outputs": [
    {
     "name": "stdout",
     "output_type": "stream",
     "text": [
      "True\n",
      "False\n"
     ]
    }
   ],
   "source": [
    "s.start()\n",
    "\n",
    "from collections import deque\n",
    "\n",
    "class Solution:\n",
    "    def isValid(self, s: str) -> bool:\n",
    "        stack = deque()\n",
    "        \n",
    "        for chr in s:\n",
    "            if chr in \"({[\":\n",
    "                stack.append(chr)\n",
    "                \n",
    "            elif not stack:\n",
    "                return False\n",
    "            \n",
    "            elif chr == ')' and stack[-1] == \"(\" or \\\n",
    "                 chr == \"}\" and stack[-1] == \"{\" or \\\n",
    "                 chr == \"]\" and stack[-1] == \"[\":\n",
    "                    stack.pop()\n",
    "            else:\n",
    "                return False\n",
    "            \n",
    "        return not stack\n",
    "\n",
    "if __name__==\"__main__\":\n",
    "    # FOR CUSTOM INPUTS\n",
    "    # cus_str = input()\n",
    "    \n",
    "    s1 = \"()[]{}\"   # True\n",
    "    s2 = \"({[(]})\"  # False\n",
    "    \n",
    "    sol = Solution()\n",
    "    print(sol.isValid(s1)) # True\n",
    "    print(sol.isValid(s2)) # False\n",
    "    # print(sol.isValid(cus_str))"
   ]
  },
  {
   "cell_type": "markdown",
   "metadata": {},
   "source": [
    "### Summary\n",
    "\n",
    "**Question:** Given a string `s` containing just the characters '(', ')', '{', '}', '[' and ']', determine if the input string is valid.\n",
    "\n",
    "An input string is valid if:\n",
    "\n",
    "1. Open brackets must be closed by the same type of brackets.  \n",
    "2. Open brackets must be closed in the correct order.  \n",
    "3. Every close bracket has a corresponding open bracket of the same type.  \n",
    "\n",
    "**Solution:** Using a stack we can account for the valid matching of opening and closing parentheses.\n",
    "\n",
    "1. If the character is one of the opening brackets `\"({[\"`, then just push it to the stack.\n",
    "\n",
    "2. If the character is one of the closing brackets `\")}]\"`, then we need to check if we do have anything in the stack to match the closing bracket, if not we return False.  \n",
    "\n",
    "3. So if our stack isn't empty then check if stack top has the matching opening bracket with the current closing bracket.\n",
    "\n",
    "    - if so it is a valid pair of brackets and we pop the opening bracket from the stack.  \n",
    "\n",
    "    - else, we return False.\n",
    "\n",
    "4. After traversing the whole string we return the emptiness of our stack implying:-\n",
    "\n",
    "    - If empty, every opening bracket had its corresponding closing bracket, return True.  \n",
    "\n",
    "    - If not empty, not every opening bracket had its corresponding closing bracket, so return False.\n",
    "\n",
    "    Time: O(n)  \n",
    "    Space: O(n)"
   ]
  },
  {
   "cell_type": "markdown",
   "metadata": {},
   "source": [
    "## 2. [Min Stack](https://leetcode.com/problems/min-stack/)"
   ]
  },
  {
   "cell_type": "code",
   "execution_count": 6,
   "metadata": {},
   "outputs": [],
   "source": [
    "class MinStack:\n",
    "\n",
    "    def __init__(self):\n",
    "        self.stack = []\n",
    "        \n",
    "    def push(self, val: int) -> None:\n",
    "        if self.stack:\n",
    "            min_val = min(self.stack[-2], val)\n",
    "            self.stack.append(min_val)\n",
    "        else:\n",
    "            self.stack.append(val)\n",
    "            \n",
    "        self.stack.append(val)\n",
    "\n",
    "        \n",
    "    def pop(self) -> None:\n",
    "        self.stack.pop()\n",
    "        self.stack.pop()\n",
    "\n",
    "    def top(self) -> int:\n",
    "        return self.stack[-1]\n",
    "\n",
    "    def getMin(self) -> int:\n",
    "        return self.stack[-2]"
   ]
  },
  {
   "cell_type": "markdown",
   "metadata": {},
   "source": [
    "### Summary\n",
    "\n",
    "**Question:** Design a stack that supports push, pop, top, and retrieving the minimum element in constant time.\n",
    "\n",
    "Implement the MinStack class:\n",
    "\n",
    "- MinStack() initializes the stack object.\n",
    "- void push(int val) pushes the element val onto the stack.\n",
    "- void pop() removes the element on the top of the stack.\n",
    "- int top() gets the top element of the stack.\n",
    "- int getMin() retrieves the minimum element in the stack.\n",
    "- You must implement a solution with O(1) time complexity for each function.\n",
    "\n",
    "**Solution:** We can't just use a member variable to track the minimum value because if the minimum value is on the stack top and the stack top is popped, then the minimum value will also change to the second minimum element which may be on the bottom of the stack.\n",
    "\n",
    "`Idea`: is that we push two elements onto the stack for each push function call, first(bottom) element will be the minimum element seen so far, and the second(top) element will be the `val`.  \n",
    "\n",
    "This way we can just return the stack's second top element anytime when asked for the minimum value.\n",
    "\n",
    "So for the `push` function:-\n",
    "\n",
    "- we check if the stack isn't empty, that means we have a minimum value to compare to the current val, and push the minimum of the two.\n",
    "\n",
    "- if the stack is empty then, there is no minimum value to compare with so we simply push the current `val` <ins>as the minimum value.</ins>\n",
    "\n",
    "- then we just push the regular `val` value for the stack top element.\n",
    "\n",
    "For the `pop` function we pop twice because one the current stack top and the another is the current minimum value.\n",
    "\n",
    "Implementation of other functions are straight forward."
   ]
  },
  {
   "cell_type": "markdown",
   "metadata": {},
   "source": [
    "## 3. [Evaluate Reverse Polish Notation](https://leetcode.com/problems/evaluate-reverse-polish-notation/description/)"
   ]
  },
  {
   "cell_type": "code",
   "execution_count": 7,
   "metadata": {},
   "outputs": [
    {
     "name": "stdout",
     "output_type": "stream",
     "text": [
      "6\n",
      "22\n"
     ]
    }
   ],
   "source": [
    "s.start()\n",
    "\n",
    "from collections import deque\n",
    "\n",
    "class Solution:\n",
    "    def evalRPN(self, tokens: List[str]) -> int:\n",
    "        stack = deque()\n",
    "        \n",
    "        for token in tokens:\n",
    "            if token.strip('-').isnumeric():\n",
    "                stack.append(int(token))\n",
    "            else:\n",
    "                opr1 = stack.pop()\n",
    "                opr2 = stack.pop()\n",
    "                \n",
    "                answer = None\n",
    "                \n",
    "                match token:\n",
    "                    case \"+\": answer = opr2 + opr1\n",
    "                    case \"-\": answer = opr2 - opr1\n",
    "                    case \"*\": answer = opr2 * opr1\n",
    "                    case \"/\": answer = int(opr2 / opr1)\n",
    "                \n",
    "                stack.append(answer)\n",
    "                \n",
    "        return stack.pop()\n",
    "    \n",
    "if __name__==\"__main__\":\n",
    "    # FOR CUSTOM INPUTS\n",
    "    # cus_str = input().split()\n",
    "    \n",
    "    s1 = [\"4\",\"13\",\"5\",\"/\",\"+\"] # 6\n",
    "    s2 = [\"10\",\"6\",\"9\",\"3\",\"+\",\"-11\",\"*\",\"/\",\"*\",\"17\",\"+\",\"5\",\"+\"] # 22\n",
    "    \n",
    "    sol = Solution()\n",
    "    print(sol.evalRPN(s1))\n",
    "    print(sol.evalRPN(s2))\n",
    "                "
   ]
  },
  {
   "cell_type": "markdown",
   "metadata": {},
   "source": [
    "### Summary\n",
    "\n",
    "**Question:** You are given an array of strings tokens that represents an arithmetic expression in a Reverse Polish Notation or Postfix Notation.\n",
    "\n",
    "Evaluate the expression. Return an integer that represents the value of the expression.\n",
    "\n",
    "Note that:\n",
    "\n",
    "- The valid operators are '+', '-', '*', and '/'.\n",
    "- Each operand may be an integer or another expression.\n",
    "- The division between two integers always **truncates toward zero**.\n",
    "- There will not be any division by zero.\n",
    "- The input represents a valid arithmetic expression in a reverse polish notation.\n",
    "- The answer and all the intermediate calculations can be represented in a 32-bit integer.\n",
    "\n",
    "**Solution** \n",
    "\n",
    "1. Using a stack we can evaluate the postfix notation, we push elements into the stack if the element is an integer.\n",
    "\n",
    "2. If we encounter an operator, we then pop the first and the second top elements from the stack and perform the corresponding operation. The result of the operation is pushed back into the stack.\n",
    "\n",
    "3. In the end, the stack will contain only one element which will be the evaluated value of the postfix notation.\n",
    "\n",
    "**Python Notes:**\n",
    "\n",
    "1. Never use plain `isnumeric()` function for checking a string for number with `-` sign for negative numbers. Strip the `-` sign and then use the function.\n",
    "\n",
    "2. We were told that the division between two integers always truncates toward zero, we can't use `//` floor division as for result like -1.3 it will round to -2 instead of -1. We used `int()` type caste to truncate the floating value."
   ]
  },
  {
   "cell_type": "markdown",
   "metadata": {},
   "source": [
    "## 4. [Generate Parentheses](https://leetcode.com/problems/generate-parentheses/)"
   ]
  },
  {
   "cell_type": "code",
   "execution_count": 15,
   "metadata": {},
   "outputs": [
    {
     "name": "stdout",
     "output_type": "stream",
     "text": [
      "['()']\n",
      "['(())', '()()']\n",
      "['((()))', '(()())', '(())()', '()(())', '()()()']\n"
     ]
    }
   ],
   "source": [
    "s.start()\n",
    "\n",
    "class Solution:\n",
    "            \n",
    "    def generateParenthesis(self, n: int) -> List[str]:\n",
    "        \n",
    "        def dfs(curr_str, opening, closing):\n",
    "            \n",
    "            if opening == 0 and closing == 0:\n",
    "                answer.append(curr_str)\n",
    "                return\n",
    "                \n",
    "            if opening:\n",
    "                dfs(curr_str + \"(\", opening-1, closing)\n",
    "                \n",
    "            if closing and opening != closing:\n",
    "                dfs(curr_str + \")\", opening, closing-1)\n",
    "                \n",
    "        answer = []\n",
    "        \n",
    "        dfs(\"\", n, n)\n",
    "        \n",
    "        return answer\n",
    "        \n",
    "\n",
    "if __name__==\"__main__\":\n",
    "    # FOR CUSTOM INPUTS\n",
    "    # cus_n = int(input())\n",
    "    \n",
    "    sol = Solution()\n",
    "    print(sol.generateParenthesis(1))\n",
    "    print(sol.generateParenthesis(2))\n",
    "    print(sol.generateParenthesis(3))\n",
    "    # print(sol.generateParenthesis(cus_n))"
   ]
  },
  {
   "cell_type": "markdown",
   "metadata": {},
   "source": [
    "### Summary\n",
    "\n",
    "**Question:** Given `n` pairs of parentheses, write a function to generate all combination of _well-formed parentheses_.\n",
    "\n",
    "Well-formed parentheses are: `((()))`, `(())()`, `()()()`, where the opening parentheses are closed in the right order.\n",
    "\n",
    "**Solution:** There will be `n` `opening` parentheses and `n` `closing` parentheses. We can easily solve this problem using recursion.\n",
    "\n",
    "<ins>Key insights of a well-formed combination of parentheses:</ins>\n",
    "\n",
    "- The starting of any combination will not be an closed `\")\"` parentheses.  \n",
    "    Example of such invalid combination: `)()`\n",
    "\n",
    "- We can only append a closing parentheses if the number of remaining opening and closing parentheses are not equal.\n",
    "    Example of such invalid combination: `())`\n",
    "\n",
    "**Code Explanation:**\n",
    "\n",
    "1. Base case of our recursive function will be when we have used up all the opening and the closing parentheses. That means we have generated the well-formed combination, so we append the current string to our answer.\n",
    "\n",
    "2. <ins>Recursive case 1:</ins> If we have opening parentheses left, we simply call the recursive function with the `\"(\"` appended to the current string and reducing the number of opening parentheses left by 1.\n",
    "\n",
    "3. <ins>Recursive case 2:</ins> If we have closing parenthese left and the number of remaining opening and closing parentheses aren't equal as from the key insights, so we call the recursive function with a `\")\"` appended to the current string and reducing the number of closing parentheses left by 1.\n",
    "\n",
    "4. Atlast, return the array of well-formed combination of parentheses."
   ]
  },
  {
   "cell_type": "markdown",
   "metadata": {},
   "source": []
  }
 ],
 "metadata": {
  "kernelspec": {
   "display_name": ".venv",
   "language": "python",
   "name": "python3"
  },
  "language_info": {
   "codemirror_mode": {
    "name": "ipython",
    "version": 3
   },
   "file_extension": ".py",
   "mimetype": "text/x-python",
   "name": "python",
   "nbconvert_exporter": "python",
   "pygments_lexer": "ipython3",
   "version": "3.12.4"
  }
 },
 "nbformat": 4,
 "nbformat_minor": 2
}
