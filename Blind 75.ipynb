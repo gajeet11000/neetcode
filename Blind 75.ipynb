{
 "cells": [
  {
   "cell_type": "markdown",
   "metadata": {},
   "source": [
    "# File Input Reader Code"
   ]
  },
  {
   "cell_type": "code",
   "execution_count": 1,
   "metadata": {},
   "outputs": [],
   "source": [
    "import builtins\n",
    "from typing import *\n",
    "\n",
    "class GlobalFileInput:\n",
    "    def __init__(self, file_path='input.txt'):\n",
    "        self.file_path = file_path\n",
    "        self.file = None\n",
    "        self.original_input = builtins.input\n",
    "    \n",
    "    def start(self):\n",
    "        self.file = open(self.file_path, 'r')\n",
    "        builtins.input = self.file_input\n",
    "\n",
    "    def stop(self):\n",
    "        if self.file:\n",
    "            builtins.input = self.original_input\n",
    "            self.file.close()\n",
    "\n",
    "    def file_input(self, prompt=''):\n",
    "        return self.file.readline().strip()\n",
    "\n",
    "# Create an instance of GlobalFileInput and start it\n",
    "s = GlobalFileInput('input.txt')"
   ]
  },
  {
   "cell_type": "markdown",
   "metadata": {},
   "source": [
    "# Arrays and Hashing"
   ]
  },
  {
   "cell_type": "markdown",
   "metadata": {},
   "source": [
    "## 1. [Contains Duplicate](https://leetcode.com/problems/contains-duplicate/)"
   ]
  },
  {
   "cell_type": "code",
   "execution_count": 16,
   "metadata": {},
   "outputs": [
    {
     "name": "stdout",
     "output_type": "stream",
     "text": [
      "True\n"
     ]
    }
   ],
   "source": [
    "s.start()\n",
    "\n",
    "class Solution:\n",
    "    def containsDuplicate(self, nums: List[int]) -> bool:\n",
    "        memo = set()\n",
    "        for num in nums:\n",
    "            if num in memo:\n",
    "                return True\n",
    "            else:\n",
    "                memo.add(num)\n",
    "        return False\n",
    "                \n",
    "if __name__==\"__main__\":\n",
    "    nums_input = [int(x) for x in input().split()]\n",
    "    \n",
    "    num1 = [1, 2, 3, 4, 5]  # False\n",
    "    num2 = [3, 4, 5, 3, 5]  # True\n",
    "    \n",
    "    sol = Solution()\n",
    "    print(sol.containsDuplicate(num2))"
   ]
  },
  {
   "cell_type": "markdown",
   "metadata": {},
   "source": [
    "### Summary\n",
    "\n",
    "**Question:** Check for duplicates in the given array.\n",
    "\n",
    "**Solutions:**\n",
    "1. While traversing the array, create a hash-set for marking the encounter of each element in the array and check if the current element already exists in the hash-set.    \n",
    "    &nbsp; &nbsp; Time: O(n)  \n",
    "    &nbsp; &nbsp; Space: O(n)  \n",
    "\n",
    "2. Sort the array and check for adjacent duplicates.  \n",
    "    &nbsp; &nbsp; Time: O(n log(n))  \n",
    "    &nbsp; &nbsp; Space: O(1)"
   ]
  },
  {
   "cell_type": "markdown",
   "metadata": {},
   "source": [
    "## 2. [Valid Anagram](https://leetcode.com/problems/valid-anagram/)"
   ]
  },
  {
   "cell_type": "code",
   "execution_count": 3,
   "metadata": {},
   "outputs": [
    {
     "name": "stdout",
     "output_type": "stream",
     "text": [
      "True\n",
      "False\n",
      "True\n"
     ]
    }
   ],
   "source": [
    "s.start()\n",
    "\n",
    "class Solution:\n",
    "    def isAnagram(self, s: str, t: str) -> bool:\n",
    "        memo_s = {}\n",
    "        memo_t = {}\n",
    "        for i in s:\n",
    "            memo_s[i] = memo_s.get(i, 0) + 1\n",
    "        for i in t:\n",
    "            memo_t[i] = memo_t.get(i, 0) + 1\n",
    "            \n",
    "        return memo_t == memo_s\n",
    "\n",
    "if __name__==\"__main__\":\n",
    "    s_input = input()\n",
    "    t_input = input()\n",
    "    \n",
    "    sol = Solution()\n",
    "    print(sol.isAnagram(s_input, t_input))\n",
    "    print(sol.isAnagram(\"cat\", \"car\"))  # False\n",
    "    print(sol.isAnagram(\"cat\", \"act\"))  # True"
   ]
  },
  {
   "cell_type": "markdown",
   "metadata": {},
   "source": [
    "### Summary\n",
    "\n",
    "**Question:** Check if all the characters and it's frequency in a string is the same as for the other one.\n",
    "\n",
    "**Solutions:**\n",
    "1. Use a dictionary to find the frequency of each character in the given strings and check if both dictionary are equal.  \n",
    "    &nbsp; &nbsp; Time: O(n)  \n",
    "    &nbsp; &nbsp; Space: O(n)  \n",
    "\n",
    "2. Use an int list of size 26, each element denoting the frequency of a character and check if both lists are equal.  \n",
    "    &nbsp; &nbsp; Time: O(n)  \n",
    "    &nbsp; &nbsp; Space: O(n)  \n",
    "\n",
    "3. Sort both the strings and check if they are equal.  \n",
    "    &nbsp; &nbsp; Time: O(n log(n))  \n",
    "    &nbsp; &nbsp; Space: O(1)  \n",
    "\n"
   ]
  },
  {
   "cell_type": "markdown",
   "metadata": {},
   "source": [
    "## 3. [Two Sum](https://leetcode.com/problems/two-sum/description/)"
   ]
  },
  {
   "cell_type": "code",
   "execution_count": 11,
   "metadata": {},
   "outputs": [
    {
     "name": "stdout",
     "output_type": "stream",
     "text": [
      "[2, 5]\n",
      "[0, 1]\n"
     ]
    }
   ],
   "source": [
    "s.start()\n",
    "\n",
    "class Solution:\n",
    "    def twoSum(self, nums: List[int], target: int) -> List[int]:\n",
    "        memo = {}\n",
    "        for i, current_num in enumerate(nums):\n",
    "            compliment = target-current_num\n",
    "            if memo.get(compliment) is not None:\n",
    "                return [memo.get(compliment), i]\n",
    "            else:\n",
    "                memo[current_num] = i\n",
    "\n",
    "if __name__==\"__main__\":\n",
    "    nums = [int(x) for x in input().split()]\n",
    "    target = int(input())\n",
    "    \n",
    "    sol = Solution()\n",
    "    print(sol.twoSum(nums, target))\n",
    "    print(sol.twoSum([2,7,11,15], 9))  # 0, 1"
   ]
  },
  {
   "cell_type": "markdown",
   "metadata": {},
   "source": [
    "### Summary  \n",
    "\n",
    "**Question**: Given an array of unique integers `nums`. Find a pair of integers that sum up to the given `target` integer and return their indices.\n",
    "\n",
    "**Solutions**:\n",
    "1. While traversing the array, use a dictionary to mark the encounter of each integer as key and its index as value. If the compliment `target-current_num` exists in the dictionary return the indices.  \n",
    "\n",
    "    &nbsp; &nbsp; Time: O(n)  \n",
    "    &nbsp; &nbsp; Space: O(n)\n",
    "\n",
    "2. Sort the array and using two pointers i, j one at index 0 and the other at index N-1.  \n",
    "    - Return i, j if  nums[i] + nums[j] == target.  \n",
    "    - Increment i if their sum < target.  \n",
    "    - Decrement j if their sum > target.  \n",
    "  \n",
    "    &nbsp; &nbsp; Time: O(n log(n))  \n",
    "    &nbsp; &nbsp; Space: O(1)  \n"
   ]
  },
  {
   "cell_type": "markdown",
   "metadata": {},
   "source": [
    "## 4. [Group Anagrams](https://leetcode.com/problems/group-anagrams/description/)"
   ]
  },
  {
   "cell_type": "code",
   "execution_count": 5,
   "metadata": {},
   "outputs": [
    {
     "name": "stdout",
     "output_type": "stream",
     "text": [
      "dict_values([['eat', 'tea', 'ate'], ['tan', 'nat'], ['bat']])\n"
     ]
    }
   ],
   "source": [
    "s.start()\n",
    "\n",
    "class Solution:\n",
    "    def groupAnagrams(self, strs: List[str]) -> List[List[str]]:\n",
    "        \n",
    "        memo = {}\n",
    "        \n",
    "        for word in strs:\n",
    "            sorted_word = ''.join(sorted(word))\n",
    "            \n",
    "            value = memo.get(sorted_word)\n",
    "            \n",
    "            if value:\n",
    "                value.append(word)\n",
    "            else:\n",
    "                memo[sorted_word] = [word]\n",
    "        \n",
    "        return memo.values()\n",
    " \n",
    "if __name__==\"__main__\":\n",
    "    strs_input = input().split()\n",
    "    \n",
    "    strs = [\"eat\",\"tea\",\"tan\",\"ate\",\"nat\",\"bat\"]\n",
    "    sol = Solution()\n",
    "    print(sol.groupAnagrams(strs_input))"
   ]
  },
  {
   "cell_type": "markdown",
   "metadata": {},
   "source": [
    "### Summary\n",
    "\n",
    "**Question:** Given a list of strings `strs`. Group the anagrams togther into their own list and return a list of grouped anagrams.\n",
    "\n",
    "**Solution:**  \n",
    "Use a hash-map and while traversing the input list:-  \n",
    "\n",
    "- Sort the current string and check if it exists as a key in the hash-map.  \n",
    "    - If False, create a key with the sorted string and value as a list, containing the current string.  \n",
    "    - If True, simply append the current string to the value of the key (which is a list).  \n",
    "  \n",
    "    Return a list of all the values(list of grouped anagrams) in the hash-map.  \n",
    "\n",
    "    &nbsp;&nbsp; Time: O(n log(n))  \n",
    "    &nbsp;&nbsp; Space: O(n)  "
   ]
  },
  {
   "cell_type": "code",
   "execution_count": null,
   "metadata": {},
   "outputs": [],
   "source": []
  }
 ],
 "metadata": {
  "kernelspec": {
   "display_name": "Python 3",
   "language": "python",
   "name": "python3"
  },
  "language_info": {
   "codemirror_mode": {
    "name": "ipython",
    "version": 3
   },
   "file_extension": ".py",
   "mimetype": "text/x-python",
   "name": "python",
   "nbconvert_exporter": "python",
   "pygments_lexer": "ipython3",
   "version": "3.12.3"
  }
 },
 "nbformat": 4,
 "nbformat_minor": 2
}
