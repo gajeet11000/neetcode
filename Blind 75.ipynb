{
 "cells": [
  {
   "cell_type": "markdown",
   "metadata": {},
   "source": [
    "# File Input Reader Code"
   ]
  },
  {
   "cell_type": "code",
   "execution_count": 11,
   "metadata": {},
   "outputs": [],
   "source": [
    "import builtins\n",
    "from typing import *\n",
    "\n",
    "class GlobalFileInput:\n",
    "    def __init__(self, file_path='input.txt'):\n",
    "        self.file_path = file_path\n",
    "        self.file = None\n",
    "        self.original_input = builtins.input\n",
    "    \n",
    "    def start(self):\n",
    "        self.file = open(self.file_path, 'r')\n",
    "        builtins.input = self.file_input\n",
    "\n",
    "    def stop(self):\n",
    "        if self.file:\n",
    "            builtins.input = self.original_input\n",
    "            self.file.close()\n",
    "\n",
    "    def file_input(self, prompt=''):\n",
    "        return self.file.readline().strip()\n",
    "\n",
    "# Create an instance of GlobalFileInput and start it\n",
    "s = GlobalFileInput('input.txt')"
   ]
  },
  {
   "cell_type": "markdown",
   "metadata": {},
   "source": [
    "# Arrays and Hashing"
   ]
  },
  {
   "cell_type": "markdown",
   "metadata": {},
   "source": [
    "## 1. [Contains Duplicate](https://leetcode.com/problems/contains-duplicate/)"
   ]
  },
  {
   "cell_type": "code",
   "execution_count": 12,
   "metadata": {},
   "outputs": [
    {
     "name": "stdout",
     "output_type": "stream",
     "text": [
      "True\n"
     ]
    }
   ],
   "source": [
    "s.start()\n",
    "\n",
    "class Solution:\n",
    "    def containsDuplicate(self, nums: List[int]) -> bool:\n",
    "        memo = set()\n",
    "        for num in nums:\n",
    "            if num in memo:\n",
    "                return True\n",
    "            else:\n",
    "                memo.add(num)\n",
    "        return False\n",
    "                \n",
    "if __name__==\"__main__\":\n",
    "    \n",
    "    # FOR CUSTOM INPUTS\n",
    "    # nums_input = [int(x) for x in input().split()]\n",
    "    \n",
    "    num1 = [1, 2, 3, 4, 5]  # False\n",
    "    num2 = [3, 4, 5, 3, 5]  # True\n",
    "    \n",
    "    sol = Solution()\n",
    "    print(sol.containsDuplicate(num2))"
   ]
  },
  {
   "cell_type": "markdown",
   "metadata": {},
   "source": [
    "### Summary\n",
    "\n",
    "**Question:** Check for duplicates in the given array.\n",
    "\n",
    "**Solutions:**\n",
    "1. While traversing the array, create a hash-set for marking the encounter of each element in the array and check if the current element already exists in the hash-set.    \n",
    "    &nbsp; &nbsp; Time: O(n)  \n",
    "    &nbsp; &nbsp; Space: O(n)  \n",
    "\n",
    "2. Sort the array and check for adjacent duplicates.  \n",
    "    &nbsp; &nbsp; Time: O(n log(n))  \n",
    "    &nbsp; &nbsp; Space: O(1)"
   ]
  },
  {
   "cell_type": "markdown",
   "metadata": {},
   "source": [
    "## 2. [Valid Anagram](https://leetcode.com/problems/valid-anagram/)"
   ]
  },
  {
   "cell_type": "code",
   "execution_count": 13,
   "metadata": {},
   "outputs": [
    {
     "name": "stdout",
     "output_type": "stream",
     "text": [
      "False\n",
      "True\n"
     ]
    }
   ],
   "source": [
    "s.start()\n",
    "\n",
    "class Solution:\n",
    "    def isAnagram(self, s: str, t: str) -> bool:\n",
    "        memo_s = {}\n",
    "        memo_t = {}\n",
    "        for i in s:\n",
    "            memo_s[i] = memo_s.get(i, 0) + 1\n",
    "        for i in t:\n",
    "            memo_t[i] = memo_t.get(i, 0) + 1\n",
    "            \n",
    "        return memo_t == memo_s\n",
    "\n",
    "if __name__==\"__main__\":\n",
    "    # FOR CUSTOM INPUTS\n",
    "    # s_input = input()\n",
    "    # t_input = input()\n",
    "    \n",
    "    sol = Solution()\n",
    "    # print(sol.isAnagram(s_input, t_input))\n",
    "    print(sol.isAnagram(\"cat\", \"car\"))  # False\n",
    "    print(sol.isAnagram(\"cat\", \"act\"))  # True"
   ]
  },
  {
   "cell_type": "markdown",
   "metadata": {},
   "source": [
    "### Summary\n",
    "\n",
    "**Question:** Check if all the characters and it's frequency in a string is the same as for the other one.\n",
    "\n",
    "**Solutions:**\n",
    "1. Use a dictionary to find the frequency of each character in the given strings and check if both dictionary are equal.  \n",
    "    &nbsp; &nbsp; Time: O(n)  \n",
    "    &nbsp; &nbsp; Space: O(n)  \n",
    "\n",
    "2. Use an int list of size 26, each element denoting the frequency of a character and check if both lists are equal.  \n",
    "    &nbsp; &nbsp; Time: O(n)  \n",
    "    &nbsp; &nbsp; Space: O(n)  \n",
    "\n",
    "3. Sort both the strings and check if they are equal.  \n",
    "    &nbsp; &nbsp; Time: O(n log(n))  \n",
    "    &nbsp; &nbsp; Space: O(1)  \n",
    "\n"
   ]
  },
  {
   "cell_type": "markdown",
   "metadata": {},
   "source": [
    "## 3. [Two Sum](https://leetcode.com/problems/two-sum/description/)"
   ]
  },
  {
   "cell_type": "code",
   "execution_count": 14,
   "metadata": {},
   "outputs": [
    {
     "name": "stdout",
     "output_type": "stream",
     "text": [
      "[0, 1]\n"
     ]
    }
   ],
   "source": [
    "s.start()\n",
    "\n",
    "class Solution:\n",
    "    def twoSum(self, nums: List[int], target: int) -> List[int]:\n",
    "        memo = {}\n",
    "        for i, current_num in enumerate(nums):\n",
    "            compliment = target-current_num\n",
    "            if memo.get(compliment) is not None:\n",
    "                return [memo.get(compliment), i]\n",
    "            else:\n",
    "                memo[current_num] = i\n",
    "\n",
    "if __name__==\"__main__\":\n",
    "    # FOR CUSTOM INPUTS\n",
    "    # nums = [int(x) for x in input().split()]\n",
    "    # target = int(input())\n",
    "    \n",
    "    sol = Solution()\n",
    "    # print(sol.twoSum(num1, target))\n",
    "    print(sol.twoSum([2,7,11,15], 9))  # 0, 1"
   ]
  },
  {
   "cell_type": "markdown",
   "metadata": {},
   "source": [
    "### Summary  \n",
    "\n",
    "**Question**: Given an array of unique integers `nums`. Find a pair of integers that sum up to the given `target` integer and return their indices.\n",
    "\n",
    "**Solutions**:\n",
    "1. While traversing the array, use a dictionary to mark the encounter of each integer as key and its index as value. If the compliment `target-current_num` exists in the dictionary return the indices.  \n",
    "\n",
    "    &nbsp; &nbsp; Time: O(n)  \n",
    "    &nbsp; &nbsp; Space: O(n)\n",
    "\n",
    "2. Sort the array and using two pointers i, j one at index 0 and the other at index N-1.  \n",
    "    - Return i, j if  nums[i] + nums[j] == target.  \n",
    "    - Increment i if their sum < target.  \n",
    "    - Decrement j if their sum > target.  \n",
    "  \n",
    "    &nbsp; &nbsp; Time: O(n log(n))  \n",
    "    &nbsp; &nbsp; Space: O(1)  \n"
   ]
  },
  {
   "cell_type": "markdown",
   "metadata": {},
   "source": [
    "## 4. [Group Anagrams](https://leetcode.com/problems/group-anagrams/description/)"
   ]
  },
  {
   "cell_type": "code",
   "execution_count": 15,
   "metadata": {},
   "outputs": [
    {
     "name": "stdout",
     "output_type": "stream",
     "text": [
      "dict_values([['eat', 'tea', 'ate'], ['tan', 'nat'], ['bat']])\n"
     ]
    }
   ],
   "source": [
    "s.start()\n",
    "\n",
    "class Solution:\n",
    "    def groupAnagrams(self, strs: List[str]) -> List[List[str]]:\n",
    "        \n",
    "        memo = {}\n",
    "        \n",
    "        for word in strs:\n",
    "            sorted_word = ''.join(sorted(word))\n",
    "            \n",
    "            value = memo.get(sorted_word)\n",
    "            \n",
    "            if value:\n",
    "                value.append(word)\n",
    "            else:\n",
    "                memo[sorted_word] = [word]\n",
    "        \n",
    "        return memo.values()\n",
    " \n",
    "if __name__==\"__main__\":\n",
    "    # FOR CUSTOM INPUTS\n",
    "    # strs_input = input().split()\n",
    "    \n",
    "    strs = [\"eat\",\"tea\",\"tan\",\"ate\",\"nat\",\"bat\"]\n",
    "    sol = Solution()\n",
    "    print(sol.groupAnagrams(strs))"
   ]
  },
  {
   "cell_type": "markdown",
   "metadata": {},
   "source": [
    "### Summary\n",
    "\n",
    "**Question:** Given a list of strings `strs`. Group the anagrams togther into their own list and return a list of grouped anagrams.\n",
    "\n",
    "**Solution:**  \n",
    "Use a hash-map and while traversing the input list:-  \n",
    "\n",
    "- Sort the current string and check if it exists as a key in the hash-map.  \n",
    "    - If False, create a key with the sorted string and value as a list, containing the current string.  \n",
    "    - If True, simply append the current string to the value of the key (which is a list).  \n",
    "  \n",
    "    Return a list of all the values(list of grouped anagrams) in the hash-map.  \n",
    "\n",
    "    &nbsp;&nbsp; Time: O(n log(n))  \n",
    "    &nbsp;&nbsp; Space: O(n)  "
   ]
  },
  {
   "cell_type": "markdown",
   "metadata": {},
   "source": [
    "## 5. [K-Most Frequent](https://leetcode.com/problems/top-k-frequent-elements/description/)"
   ]
  },
  {
   "cell_type": "code",
   "execution_count": 16,
   "metadata": {},
   "outputs": [
    {
     "name": "stdout",
     "output_type": "stream",
     "text": [
      "[1, 2]\n"
     ]
    }
   ],
   "source": [
    "s.start()\n",
    "\n",
    "class Solution:\n",
    "    def topKFrequent(self, nums: List[int], k: int) -> List[int]:\n",
    "        memo = {}\n",
    "        \n",
    "        for i in nums:\n",
    "            memo[i] = memo.get(i, 0) + 1\n",
    "        \n",
    "        buckets = [ [] for _ in range(len(nums) + 1) ]\n",
    "        \n",
    "        for key, val in memo.items():\n",
    "            buckets[val].append(key)\n",
    "        \n",
    "        top_k = []\n",
    "        \n",
    "        for i in range(len(buckets)-1, -1, -1):\n",
    "            for j in buckets[i]:\n",
    "                top_k.append(j)\n",
    "                if len(top_k) == k:\n",
    "                    return top_k\n",
    "                \n",
    "        return top_k\n",
    "\n",
    "if __name__==\"__main__\":\n",
    "    # FOR CUSTOM INPUT\n",
    "    # ele_input = [int(x) for x in input().split()]\n",
    "    # k = int(input())\n",
    "    \n",
    "    cus_input = [1, 1, 1, 2, 3, 2]\n",
    "    k = 2\n",
    "    sol = Solution()\n",
    "    print(sol.topKFrequent(cus_input, k))\n"
   ]
  },
  {
   "cell_type": "markdown",
   "metadata": {},
   "source": [
    "### Summary\n",
    "\n",
    "**Question:** Given an array of integers and an integer `k`. Return the top K most frequent elements.  \n",
    "\n",
    "**Solution:**   \n",
    "Use a hash-map and get the frequency of all the integers in the input array.  \n",
    "- By sorting the hash-map by values:-  \n",
    "    1. Just sort the hash-map based on the values and return the top k frequent elements.  \n",
    "  \n",
    "    &nbsp;&nbsp; Time: O(n log(n))  \n",
    "    &nbsp;&nbsp; Space: O(n)  \n",
    "\n",
    "- By using the clever bucket sort algorithm:-  \n",
    "    1. Use the indices of an array(buckets) to denote the frequency of an element.  \n",
    "  \n",
    "    2. Since many integers can have the same frequency, we will use a list for the i<sup>th</sup> index to store all the integers that have the i<sup>th</sup> frequency, in our bucket list.  \n",
    "  \n",
    "    3. At last we traverse the buckets array from the end(for getting the largest frequencies first), and keep appending the integers having that frequency to our top-k frequent list until the size of our top-k equals `k`.  \n",
    "\n",
    "    &nbsp;&nbsp; Time: O(n)  \n",
    "    &nbsp;&nbsp; Space: O(n)  \n"
   ]
  },
  {
   "cell_type": "markdown",
   "metadata": {},
   "source": [
    "## 6. [Encode and Decode Strings](https://neetcode.io/problems/string-encode-and-decode)"
   ]
  },
  {
   "cell_type": "code",
   "execution_count": 17,
   "metadata": {},
   "outputs": [
    {
     "name": "stdout",
     "output_type": "stream",
     "text": [
      "2$xg3$ve~1$@3$m|10$+K/13m6;:<\n",
      "['we', 'say', ':', 'yes', '!@#$%^&*()']\n"
     ]
    }
   ],
   "source": [
    "s.start()\n",
    "\n",
    "class Solution:\n",
    "    def encode(self, strs: List[str]) -> str:\n",
    "        encoded = \"\"\n",
    "        idx = 1\n",
    "        \n",
    "        for word in strs:\n",
    "            encoded += str(len(word)) + \"$\"\n",
    "            \n",
    "            for j in word:\n",
    "                encoded += chr(ord(j) + idx)\n",
    "                idx += 1\n",
    "                \n",
    "        return encoded \n",
    "\n",
    "    def decode(self, s: str) -> List[str]:\n",
    "        decoded = []\n",
    "        idx = 1\n",
    "        l_ptr, r_ptr = 0, 0\n",
    "        \n",
    "        while(r_ptr < len(s)):\n",
    "            \n",
    "            # Finding the $ index for word separation.\n",
    "            while(r_ptr < len(s) and s[r_ptr] != \"$\"):\n",
    "                r_ptr += 1\n",
    "            \n",
    "            # The substring before would be the length of the word ahead.\n",
    "            length = int(s[l_ptr : r_ptr])\n",
    "           \n",
    "            # Setting l_ptr to the first char of the word to traverse\n",
    "            l_ptr = r_ptr + 1\n",
    "            \n",
    "            # Setting r_ptr to word length, giving l_ptr an end point \n",
    "            r_ptr += length\n",
    "            \n",
    "            decoded_word = \"\"\n",
    "            while(l_ptr <= r_ptr):\n",
    "                decoded_word += chr(ord(s[l_ptr]) - idx)\n",
    "                idx += 1\n",
    "                l_ptr += 1\n",
    "            \n",
    "            # Setting r_ptr to the next char index after the word\n",
    "            r_ptr = l_ptr\n",
    "            \n",
    "            decoded.append(decoded_word)\n",
    "        \n",
    "        return decoded\n",
    "            \n",
    "if __name__==\"__main__\":\n",
    "    # FOR CUSTOM INPUT\n",
    "    # ele_input = input().split()\n",
    "    \n",
    "    cus_input = [\"we\",\"say\",\":\",\"yes\",\"!@#$%^&*()\"]\n",
    "    sol = Solution()\n",
    "    encoded = sol.encode(cus_input)\n",
    "    print(encoded)\n",
    "    decoded = sol.decode(encoded)\n",
    "    print(decoded)"
   ]
  },
  {
   "cell_type": "markdown",
   "metadata": {},
   "source": [
    "### Summary\n",
    "\n",
    "**Question:**  Implement the two functions :-  \n",
    "- `encode()`: Given a list of strings, encode the given string into a single string, without keeping any external key for decoding.  \n",
    "\n",
    "- `decode()`: Given a string generated by the encode function, it should return the original list of string given to the encode function.  \n",
    "  \n",
    "**Solution:**  \n",
    "- For encode function:\n",
    "    1. We pre-pend the length of the word along with a delimiter symbol for identifying the length substring.  \n",
    "  \n",
    "    2. We shift the original character by the index of that character for randomness. The index is a countinous integer and doesn't reset to 0 for new word.  \n",
    "  \n",
    "- For decode function:  \n",
    "    1. Get the length of the word by using the delimiter symbol.  \n",
    "\n",
    "    2. Iterate the word from the next character of the delimiter to the length of the word characters ahead and decode each character.  \n",
    "\n",
    "    3. Save the decoded word into a list and repeat the process for decoding the next word.  \n",
    "  \n",
    "    &nbsp;&nbsp; Time: O(n)  \n",
    "    &nbsp;&nbsp; Space: O(1)  "
   ]
  },
  {
   "cell_type": "markdown",
   "metadata": {},
   "source": [
    "## 7. [Product of Array Except Self](https://leetcode.com/problems/product-of-array-except-self/description/)"
   ]
  },
  {
   "cell_type": "code",
   "execution_count": 18,
   "metadata": {},
   "outputs": [
    {
     "name": "stdout",
     "output_type": "stream",
     "text": [
      "[24, 12, 8, 6]\n"
     ]
    }
   ],
   "source": [
    "s.start()\n",
    "\n",
    "class Solution:\n",
    "    def productExceptSelf(self, nums: List[int]) -> List[int]:\n",
    "        N = len(nums)\n",
    "        answer = [1] * N\n",
    "        \n",
    "        for i in range(N-2, -1, -1):\n",
    "            \n",
    "            # answer[i+1] is the previous element from the right.\n",
    "            # nums[i+1] will be the element to the right for the i'th answer.\n",
    "            answer[i] = answer[i+1] * nums[i+1]\n",
    "        \n",
    "        prefix_prod = 1\n",
    "        for i in range(N):\n",
    "            answer[i] = prefix_prod * answer[i]\n",
    "            prefix_prod *= nums[i]\n",
    "            \n",
    "        return answer\n",
    "    \n",
    "if __name__==\"__main__\":\n",
    "    # FOR CUSTOM INPUT\n",
    "    # ele_input = [int(x) for x in input().split()]\n",
    "    \n",
    "    cus_input = [1,2,3,4]\n",
    "    cus_input2 = [-1,1,0,-3,3]\n",
    "    sol = Solution()\n",
    "    print(sol.productExceptSelf(cus_input))"
   ]
  },
  {
   "cell_type": "markdown",
   "metadata": {},
   "source": [
    "### Summary\n",
    "\n",
    "**Question:**  Given an integer array `nums`, return an array `answer` such that `answer[i]` is equal to the product of all the elements of `nums` except `nums[i]`.  \n",
    "\n",
    "Without using the division operator.  \n",
    "  \n",
    "**Solution:**  \n",
    "- Prefix and Suffix Products:\n",
    "\n",
    "    > Idea: The product of all the integers in the array except an i<sup>th</sup> integer will be equal to the product of all the integers to the left of the i<sup>th</sup> integer times the the product of all the integers to the right of the i<sup>th</sup> integer.  \n",
    "  \n",
    "  \n",
    "    ![Prefix Suffix Prodct Explanation](assets/prefix_suffix_product.png)\n",
    "\n",
    "  \n",
    "    1. We create two array of integers prefix_prod and suffix_prod such that:-\n",
    "        - **prefix_prod**: each (i-1)<sup>th</sup> integer will be the product of all the integers from the left end of the input array up till the i<sup>th</sup> integer excluding it.  \n",
    "        \n",
    "        - **suffix_prod**: each (i+1)<sup>th</sup> integer will be the product of all the integers from the right end of the input array up till the i<sup>th</sup> integer excluding it.\n",
    "\n",
    "        ![Prefix Suffix Prodct Explanation](assets/prefix_suffix_prod1.png)\n",
    "\n",
    "    2. Prepend 1 to the prefix_prod array and append 1 to the suffix_prod array for the above calcuation shown in the diagram.  \n",
    "\n",
    "    3. Keep appending the required product into an `answer` array by using the following logic:-  \n",
    "\n",
    "        `answer[i] = prefix_prod[i-1] * suffix_prod[i+1]`\n",
    "  \n",
    "        Time: O(n)  \n",
    "        Space: O(n)\n",
    "\n",
    "- **Space Optimization:**  \n",
    "\n",
    "    > Idea: Instead of using two different arrays for storing the pre-calcuated values, we utilize the answer array for storing the suffix_prod values, and for prefix_prod values we calculate it in each iteration and use it in the calculation of the i<sup>th</sup> answer value.  \n",
    "\n",
    "    1. We create an answer array of length of the input array and initialize all to 1.  \n",
    "\n",
    "    2. From the above explanation we can see the first value in the suffix_prod array is useless for us and same goes for the last value in the prefix_prod array.  \n",
    "\n",
    "    3. So we shift the suffix_prod array to the left by eliminating the first element and including the 1 at the end which we additionally added in our previous approach.  \n",
    "\n",
    "    4. Now we start filling the suffix_prod values from the (N-2)<sup>th</sup> position as 1 stays at the end from the previous argument.  \n",
    "\n",
    "    5. Then we calculate the prefix_prod for each index and multiply it with the answer[i] which is the suffix_prod required for that index to calculate and store it in answer[i] itself as shown below:-\n",
    "        \n",
    "        `answer[i] = prefix_prod * answer[i]`  \n",
    "        `prefix_prod *= nums[i]`\n",
    "\n",
    "        Time: O(n)  \n",
    "        Space: O(1)"
   ]
  },
  {
   "cell_type": "markdown",
   "metadata": {},
   "source": [
    "## 8. [Valid Sudoku](https://leetcode.com/problems/valid-sudoku/description/)"
   ]
  },
  {
   "cell_type": "code",
   "execution_count": 22,
   "metadata": {},
   "outputs": [
    {
     "name": "stdout",
     "output_type": "stream",
     "text": [
      "True\n",
      "False\n"
     ]
    }
   ],
   "source": [
    "s.start()\n",
    "\n",
    "from collections import defaultdict\n",
    "\n",
    "class Solution:\n",
    "    def isValidSudoku(self, board: List[List[str]]) -> bool:\n",
    "        # defaultdict a subclass of dict that returns default\n",
    "        # value set by the user when accessing the value of a\n",
    "        # non-existent key in the dictionary.\n",
    "        \n",
    "        # Using get() function to access value of a key on \n",
    "        # defautdict will still return None if the key doesn't exist.\n",
    "        \n",
    "        rows_memo = defaultdict(set)\n",
    "        cols_memo = defaultdict(set)\n",
    "        sub_blocks = defaultdict(set)\n",
    "        \n",
    "        for row in range(9):\n",
    "            for col in range(9):\n",
    "                element = board[row][col]\n",
    "                \n",
    "                if element != \".\":\n",
    "                    key = str(row // 3) + str(col // 3)\n",
    "                    \n",
    "                    if ( element in rows_memo[row] or\n",
    "                         element in cols_memo[col] or \n",
    "                         element in sub_blocks[key] ):\n",
    "                        return False\n",
    "                    \n",
    "                    rows_memo[row].add(element)\n",
    "                    cols_memo[col].add(element)\n",
    "                    sub_blocks[key].add(element)\n",
    "        \n",
    "        return True\n",
    "    \n",
    "\n",
    "if __name__==\"__main__\":\n",
    "    # FOR CUSTOM INPUT\n",
    "    # input_board = [ x.split() for x in [input() for y in range(9)] ]\n",
    "    \n",
    "    # It is a valid sudoku board.\n",
    "    board1 = [\n",
    "         [\"5\",\"3\",\".\",\".\",\"7\",\".\",\".\",\".\",\".\"]\n",
    "        ,[\"6\",\".\",\".\",\"1\",\"9\",\"5\",\".\",\".\",\".\"]\n",
    "        ,[\".\",\"9\",\"8\",\".\",\".\",\".\",\".\",\"6\",\".\"]\n",
    "        ,[\"8\",\".\",\".\",\".\",\"6\",\".\",\".\",\".\",\"3\"]\n",
    "        ,[\"4\",\".\",\".\",\"8\",\".\",\"3\",\".\",\".\",\"1\"]\n",
    "        ,[\"7\",\".\",\".\",\".\",\"2\",\".\",\".\",\".\",\"6\"]\n",
    "        ,[\".\",\"6\",\".\",\".\",\".\",\".\",\"2\",\"8\",\".\"]\n",
    "        ,[\".\",\".\",\".\",\"4\",\"1\",\"9\",\".\",\".\",\"5\"]\n",
    "        ,[\".\",\".\",\".\",\".\",\"8\",\".\",\".\",\"7\",\"9\"]\n",
    "    ]\n",
    "    \n",
    "    # It not a valid sudoku board as 8 repeates in the 0th column.\n",
    "    board2 = [\n",
    "         [\"8\",\"3\",\".\",\".\",\"7\",\".\",\".\",\".\",\".\"]\n",
    "        ,[\"6\",\".\",\".\",\"1\",\"9\",\"5\",\".\",\".\",\".\"]\n",
    "        ,[\".\",\"9\",\"8\",\".\",\".\",\".\",\".\",\"6\",\".\"]\n",
    "        ,[\"8\",\".\",\".\",\".\",\"6\",\".\",\".\",\".\",\"3\"]\n",
    "        ,[\"4\",\".\",\".\",\"8\",\".\",\"3\",\".\",\".\",\"1\"]\n",
    "        ,[\"7\",\".\",\".\",\".\",\"2\",\".\",\".\",\".\",\"6\"]\n",
    "        ,[\".\",\"6\",\".\",\".\",\".\",\".\",\"2\",\"8\",\".\"]\n",
    "        ,[\".\",\".\",\".\",\"4\",\"1\",\"9\",\".\",\".\",\"5\"]\n",
    "        ,[\".\",\".\",\".\",\".\",\"8\",\".\",\".\",\"7\",\"9\"]\n",
    "    ]\n",
    "    \n",
    "    sol = Solution()\n",
    "    print(sol.isValidSudoku(board1)) # True\n",
    "    print(sol.isValidSudoku(board2)) # False"
   ]
  },
  {
   "cell_type": "markdown",
   "metadata": {},
   "source": [
    "### Summary\n",
    "\n",
    "**Question:** Determine if a 9 x 9 Sudoku board is valid. Only the filled cells need to be validated according to the following rules:\n",
    "\n",
    "1. Each row must contain the digits 1-9 without repetition.  \n",
    "\n",
    "2. Each column must contain the digits 1-9 without repetition.  \n",
    "\n",
    "3. Each of the nine 3 x 3 sub-blocks of the grid must contain the digits 1-9 without repetition.\n",
    "\n",
    "**Solution:** We check for each of the given conditions in the question:-\n",
    "\n",
    "1. Use a hash-map `rows_memo` with row No. as key and a hash-set as value to store the encountered numbers for that row.\n",
    "\n",
    "2. Similarly, use a hash-map `cols_memo` with column No. as key and a hash-set as value to store the encountered numbers for that column.\n",
    "\n",
    "    ![sub blocks explanation](assets/valid_sudoku_block_exp.png)\n",
    "\n",
    "    To find out which one of the 3x3 sub-block a given cell `board[row][col]` belongs to we can just use floor division by 3 on the row and column index which will get us `(row // 3, col // 3)` indicating one of the above 3x3 sub-block it belongs to.\n",
    "\n",
    "    For example lets take cell `board[7][6]`, and find out which block it belongs to:\n",
    "\n",
    "    > (7 // 3, 6 // 3) = (2,2)\n",
    "\n",
    "    which is indeed the element `board[7][6]` belongs from the above image.\n",
    "\n",
    "4. To find out the duplicates in each sub-blocks we use a hash-map and use block No like from the image above eg. `12` represent the block (1,2) as key and a hash-set as the values encountered for that sub-block.\n",
    "\n",
    "5. Now we iterate the whole board and if the current element is not a `dot(.)`, then we check the 3 conditions:-  \n",
    "\n",
    "    - if that element already exists in that `row`.\n",
    "    - if that element already exists in that `col`.\n",
    "    - if that element already exists for the calculated `sub-block`.  \n",
    "\n",
    "    if any of them is True we return False, else add that element to of their respective hash-set and repeat the process.  \n",
    "  \n",
    "    Time: O(n<sup>2</sup>)  \n",
    "    Space: O(9<sup>2</sup>)\n"
   ]
  },
  {
   "cell_type": "markdown",
   "metadata": {},
   "source": []
  }
 ],
 "metadata": {
  "kernelspec": {
   "display_name": "Python 3",
   "language": "python",
   "name": "python3"
  },
  "language_info": {
   "codemirror_mode": {
    "name": "ipython",
    "version": 3
   },
   "file_extension": ".py",
   "mimetype": "text/x-python",
   "name": "python",
   "nbconvert_exporter": "python",
   "pygments_lexer": "ipython3",
   "version": "3.12.3"
  }
 },
 "nbformat": 4,
 "nbformat_minor": 2
}
