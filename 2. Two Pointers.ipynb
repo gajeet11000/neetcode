{
 "cells": [
  {
   "cell_type": "markdown",
   "metadata": {},
   "source": [
    "# File Input Reader Code"
   ]
  },
  {
   "cell_type": "code",
   "execution_count": 2,
   "metadata": {},
   "outputs": [],
   "source": [
    "import builtins\n",
    "from typing import *\n",
    "\n",
    "class GlobalFileInput:\n",
    "    def __init__(self, file_path='input.txt'):\n",
    "        self.file_path = file_path\n",
    "        self.file = None\n",
    "        self.original_input = builtins.input\n",
    "    \n",
    "    def start(self):\n",
    "        self.file = open(self.file_path, 'r')\n",
    "        builtins.input = self.file_input\n",
    "\n",
    "    def stop(self):\n",
    "        if self.file:\n",
    "            builtins.input = self.original_input\n",
    "            self.file.close()\n",
    "\n",
    "    def file_input(self, prompt=''):\n",
    "        return self.file.readline().strip()\n",
    "\n",
    "# Create an instance of GlobalFileInput and start it\n",
    "s = GlobalFileInput('input.txt')"
   ]
  },
  {
   "cell_type": "markdown",
   "metadata": {},
   "source": [
    "# Two Pointers"
   ]
  },
  {
   "cell_type": "markdown",
   "metadata": {},
   "source": [
    "## 1. [Valid Palindrome](https://leetcode.com/problems/valid-palindrome/description/)"
   ]
  },
  {
   "cell_type": "code",
   "execution_count": 8,
   "metadata": {},
   "outputs": [
    {
     "name": "stdout",
     "output_type": "stream",
     "text": [
      "False\n",
      "True\n"
     ]
    }
   ],
   "source": [
    "s.start()\n",
    "\n",
    "class Solution:\n",
    "    def isPalindrome(self, s: str) -> bool:\n",
    "        left, right = 0, len(s)-1\n",
    "        \n",
    "        while(left < right):\n",
    "            if s[left].isalnum():\n",
    "                if s[right].isalnum():\n",
    "                    if s[left].lower() != s[right].lower():\n",
    "                        return False\n",
    "                    left += 1\n",
    "                    right -= 1\n",
    "                else:\n",
    "                    right -= 1\n",
    "            else:\n",
    "                left += 1\n",
    "                \n",
    "        return True\n",
    "            \n",
    "    \n",
    "if __name__==\"__main__\":\n",
    "    # FOR CUSTOM INPUTS\n",
    "    # cus_str = input()\n",
    "    \n",
    "    s1 = \"is this the krusty crab\"  # False\n",
    "    s2 = \"Malayalam\"  # True\n",
    "    \n",
    "    sol = Solution()\n",
    "    print(sol.isPalindrome(s1))\n",
    "    print(sol.isPalindrome(s2))\n",
    "    # print(sol.isPalindrome(cus_str))"
   ]
  },
  {
   "cell_type": "markdown",
   "metadata": {},
   "source": [
    "### Summary\n",
    "\n",
    "**Question:** Given a string, after removing all the non-alphanumeric characters and converting it to lowercase, check if the resultant string reads the same from forward and backward, such a string is called <ins>Palindrome string</ins>. Return True if it is palindrom else False.\n",
    "\n",
    "**Solution:** \n",
    "1. Using a two pointer approach, `left` on 0<sup>th</sup> and `right` on (N-1)<sup>th</sup> indices.  \n",
    "\n",
    "2. While left < right, check if the left index character AND right index character both are <ins>alphanumeric</ins>.  \n",
    "\n",
    "    - If so then check if the <ins>lowercase version</ins> of both characters aren't equal (indicating reading from forward and backword isn't the same), if so return False.  \n",
    "\n",
    "    - Else just increment and decrement both left and right indices respectively.  \n",
    "\n",
    "3. If the left index character is not alphanumeric, increment left.  \n",
    "\n",
    "4. Similarly, if the right index character is not alphanumeric, decrement right.\n",
    "\n",
    "    Time: O(n)  \n",
    "    Space: O(1)\n",
    "\n",
    "    "
   ]
  },
  {
   "cell_type": "markdown",
   "metadata": {},
   "source": [
    "## 2. [Two Sum II - Input Array Is Sorted](https://leetcode.com/problems/two-sum-ii-input-array-is-sorted/description/)"
   ]
  },
  {
   "cell_type": "code",
   "execution_count": 10,
   "metadata": {},
   "outputs": [
    {
     "name": "stdout",
     "output_type": "stream",
     "text": [
      "[1, 2]\n",
      "[1, 3]\n"
     ]
    }
   ],
   "source": [
    "s.start()\n",
    "\n",
    "class Solution:\n",
    "    def twoSum(self, numbers: List[int], target: int) -> List[int]:\n",
    "        left, right = 0, len(numbers)-1\n",
    "        \n",
    "        while(left < right):\n",
    "            sum = numbers[left] + numbers[right]\n",
    "            if sum == target:\n",
    "                return [left+1, right+1]\n",
    "            elif sum < target:\n",
    "                left += 1\n",
    "            else:\n",
    "                right -= 1\n",
    "                \n",
    "if __name__==\"__main__\":\n",
    "    # FOR CUSTOM INPUTS\n",
    "    # numbers = [int(x) for x in input().split()]\n",
    "    # target = int(input())\n",
    "    \n",
    "    nums1 = [2, 7, 11, 15]\n",
    "    nums2 = [2, 3, 4]\n",
    "    \n",
    "    sol = Solution()\n",
    "    print(sol.twoSum(nums1, 9))  # [1, 2] (1-indexed)\n",
    "    print(sol.twoSum(nums2, 6))  # [1, 3] \n",
    "    # print(sol.twoSum(numbers, target))"
   ]
  },
  {
   "cell_type": "markdown",
   "metadata": {},
   "source": [
    "### Summary\n",
    "\n",
    "**Question:** Given an array of integers `numbers` in <ins>non-decreasing order</ins> and an integer `target`. Find the <ins>pair of two integer</ins> in the given array that <ins>sum up to the target integer</ins> and return the indices of the two integers.  \n",
    "\n",
    "There is <ins>exactly one solution</ins> and the returned <ins>indices must be 1-indexed</ins>.  \n",
    "\n",
    "**Solution:** \n",
    "\n",
    "1. Using two pointer approach, left at 0<sup>th</sup> index and right at (N-1)<sup>th</sup> index.  \n",
    "\n",
    "2. While left < right, calculate the sum of integers, at index left and right.\n",
    "\n",
    "    - If the <ins>sum is equal to target</ins>, return an array of left+1 and right+1 ( +1 for 1-indexed).\n",
    "\n",
    "    - If the <ins>sum is less than target</ins>, meaning we need to add a greater number than the current number to the sum and we know the numbers in the input array are increasing from left to right, so we increment left by one.  \n",
    "\n",
    "    - Similarly, if the <ins>sum is greater than target</ins>, meaning we need to add a smaller number than the current number to the sum and we know the numbers in the input array are decreasing from right to left, so we decrement right by one.\n",
    "\n",
    "    Time: O(n)  \n",
    "    Space: O(1)"
   ]
  },
  {
   "cell_type": "markdown",
   "metadata": {},
   "source": [
    "## 3. [Three Sum Problem](https://leetcode.com/problems/3sum/description/)"
   ]
  },
  {
   "cell_type": "code",
   "execution_count": 19,
   "metadata": {},
   "outputs": [
    {
     "name": "stdout",
     "output_type": "stream",
     "text": [
      "[[-1, -1, 2], [-1, 0, 1]]\n"
     ]
    }
   ],
   "source": [
    "s.start()\n",
    "\n",
    "class Solution:\n",
    "    def threeSum(self, nums: List[int]) -> List[List[int]]:\n",
    "        nums.sort()\n",
    "        \n",
    "        answer = []\n",
    "        \n",
    "        for idx, target in enumerate(nums):\n",
    "            # when target is positive there is no negative\n",
    "            # integers on right that will cancel out target to 0.\n",
    "            if target > 0:\n",
    "                break\n",
    "            \n",
    "            # if its not the 0th index, we check if the previous target was \n",
    "            # the same, if so we already checked out for pairs for current target.\n",
    "            if idx > 0 and nums[idx-1] == target:\n",
    "                continue\n",
    "                \n",
    "            left = idx + 1\n",
    "            right = len(nums)-1\n",
    "            \n",
    "            while(left < right):\n",
    "                \n",
    "                sum = nums[left] + nums[right]\n",
    "                \n",
    "                # We check for the negative of target since we want \n",
    "                # (x, y, z) such that x + y + z = 0 and,\n",
    "                # x + y = -z\n",
    "                \n",
    "                if sum == -target:\n",
    "                    answer.append([target, nums[left], nums[right]])\n",
    "\n",
    "                    # We keep moving the left ptr till we find a different\n",
    "                    # number which makes another solution triplet different \n",
    "                    # from the one we just saved in our answer.\n",
    "                    left += 1\n",
    "                    while(left < right and nums[left] == nums[left-1]):\n",
    "                        left += 1\n",
    "                \n",
    "                elif sum < -target:\n",
    "                    left += 1\n",
    "                    \n",
    "                else:\n",
    "                    right -= 1\n",
    "        return answer\n",
    "\n",
    "if __name__==\"__main__\":\n",
    "    # FOR CUSTOM INPUTS\n",
    "    # numbers = [int(x) for x in input().split()]\n",
    "    nums1 = [-1,0,1,2,-1,-4]\n",
    "    sol = Solution()\n",
    "    print(sol.threeSum(nums1))"
   ]
  },
  {
   "cell_type": "markdown",
   "metadata": {},
   "source": [
    "### Summary\n",
    "\n",
    "**Question:** Given an array of integers `num`, return a list of all triplets (nums[i], nums[j], nums[k]) of integer such that (nums[i] + nums[j] + nums[k]) = 0.\n",
    "\n",
    "1. You may not use the an integer from the same index twice in an triplet, which implies `i != j != k`.\n",
    "\n",
    "2. Each triplet must be unique. Therefore, the triplet (a, b, c) is not different from (c, a, b).\n",
    "\n",
    "**Solution:**  \n",
    "\n",
    "<ins>Idea</ins>: Similar to Two Sum problem where, given a constant target integer K, we had to find two pair of integer that sum up to K.\n",
    "\n",
    "> x + y = K\n",
    "\n",
    "We are here told to find triplet such that the sum of triplet is 0 which implies.\n",
    "\n",
    "> x + y + z = 0\n",
    "\n",
    "Now, this now can also be written as:\n",
    "\n",
    "> x + y = -z\n",
    "\n",
    "Now, this again can be seen as Two Sum problem where we need to find a pair of integers whose sum should be equal to the negative of the <ins>target</ins> `z`.\n",
    "\n",
    "<ins>We will now sort the input array and use the two pointer approach to solve this.</ins>\n",
    "\n",
    "- **Why sorting and two pointer approach?**\n",
    "\n",
    "    We use sorting and two pointer approach as here we also need to deal with the possible duplicate triplets that might be included in our solution list.\n",
    "    \n",
    "    <ins>How sorting helps avoiding duplicate triplets?</ins>\n",
    "\n",
    "    For example we have an input array [-3, 3, 4, -3, 1, 2]  \n",
    "\n",
    "    we consider -3 from index 0 as our target `z` and using hash-map and iterating through the array we can find a pair (1, 2) which sums up to negative of -3 which is 3. Giving us triplet (-3, 1, 2).  \n",
    "\n",
    "    But then again we encounter -3 at index 3, which will again result us with the triplet (-3, 1, 2) which is a duplicate.\n",
    "\n",
    "    Now with the sorted the array [-3, -3, 1, 2, 3, 4]\n",
    "\n",
    "    Considering -3 at index 0 to be the target `z` we use the two pointer on the rest of the array and get the solution triplet (-3, 1, 2) as before.\n",
    "\n",
    "    But now we can easily skip for the next -3 at index 1, as it is the same as the previous target -3 at index 0, which will give us the same triplet (-3, 1, 2) as duplicate.\n",
    "\n",
    "**Solution Steps:**\n",
    "\n",
    "1. We sort the input array and traverse it considering each element as our target `z` and try to find a pair that adds up to negative of `z`.\n",
    "\n",
    "2. We check if the target `z` is a positive integer > 0, then we just break out of the traversing, as the array is sorted there will be no negative elements in the array on right to cancel out the positive integer to 0.\n",
    "\n",
    "3. Then we check if a previous target exists by checking if it is **not** the 0<sup>th</sup> index (first element) if so, we then check if the previous target and the current one are equal? If true, we simply skip the iteration and move to next target.\n",
    "\n",
    "4. Now we use the two pointer approach and find a of pair of integers whose sum is equal to the negative of target, if we find one, we simply append the triplet to the answer list. And also increment the left pointer, trying to find other possible triplets with the current target.  \n",
    "\n",
    "    But even after moving the left pointer if we see the same previous left index integer from which we just made a triplet and added to our solution, <ins>then we keep incrementing the left pointer unitl we find a different integer</ins>, as we haven't changed the target integer as well as the right pointer integer and if the left pointer integers also remains the same after incrementing then it will generate a duplicate triplet.\n",
    "\n",
    "5. Now as normally when the sum less than the `-target` we increment the left pointer.\n",
    "\n",
    "6. And when the sum is greater than the `-target` we decreament the right pointer.\n",
    "\n",
    "7. Atlast return the solution list of triplets."
   ]
  },
  {
   "cell_type": "markdown",
   "metadata": {},
   "source": []
  }
 ],
 "metadata": {
  "kernelspec": {
   "display_name": ".venv",
   "language": "python",
   "name": "python3"
  },
  "language_info": {
   "codemirror_mode": {
    "name": "ipython",
    "version": 3
   },
   "file_extension": ".py",
   "mimetype": "text/x-python",
   "name": "python",
   "nbconvert_exporter": "python",
   "pygments_lexer": "ipython3",
   "version": "3.12.3"
  }
 },
 "nbformat": 4,
 "nbformat_minor": 2
}
