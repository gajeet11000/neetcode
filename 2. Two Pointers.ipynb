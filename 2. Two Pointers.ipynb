{
 "cells": [
  {
   "cell_type": "markdown",
   "metadata": {},
   "source": [
    "# File Input Reader Code"
   ]
  },
  {
   "cell_type": "code",
   "execution_count": 2,
   "metadata": {},
   "outputs": [],
   "source": [
    "import builtins\n",
    "from typing import *\n",
    "\n",
    "class GlobalFileInput:\n",
    "    def __init__(self, file_path='input.txt'):\n",
    "        self.file_path = file_path\n",
    "        self.file = None\n",
    "        self.original_input = builtins.input\n",
    "    \n",
    "    def start(self):\n",
    "        self.file = open(self.file_path, 'r')\n",
    "        builtins.input = self.file_input\n",
    "\n",
    "    def stop(self):\n",
    "        if self.file:\n",
    "            builtins.input = self.original_input\n",
    "            self.file.close()\n",
    "\n",
    "    def file_input(self, prompt=''):\n",
    "        return self.file.readline().strip()\n",
    "\n",
    "# Create an instance of GlobalFileInput and start it\n",
    "s = GlobalFileInput('input.txt')"
   ]
  },
  {
   "cell_type": "markdown",
   "metadata": {},
   "source": [
    "# Two Pointers"
   ]
  },
  {
   "cell_type": "markdown",
   "metadata": {},
   "source": [
    "## 1. [Valid Palindrome](https://leetcode.com/problems/valid-palindrome/description/)"
   ]
  },
  {
   "cell_type": "code",
   "execution_count": 8,
   "metadata": {},
   "outputs": [
    {
     "name": "stdout",
     "output_type": "stream",
     "text": [
      "False\n",
      "True\n"
     ]
    }
   ],
   "source": [
    "s.start()\n",
    "\n",
    "class Solution:\n",
    "    def isPalindrome(self, s: str) -> bool:\n",
    "        left, right = 0, len(s)-1\n",
    "        \n",
    "        while(left < right):\n",
    "            if s[left].isalnum():\n",
    "                if s[right].isalnum():\n",
    "                    if s[left].lower() != s[right].lower():\n",
    "                        return False\n",
    "                    left += 1\n",
    "                    right -= 1\n",
    "                else:\n",
    "                    right -= 1\n",
    "            else:\n",
    "                left += 1\n",
    "                \n",
    "        return True\n",
    "            \n",
    "    \n",
    "if __name__==\"__main__\":\n",
    "    # FOR CUSTOM INPUTS\n",
    "    # nums_str = input()\n",
    "    \n",
    "    s1 = \"is this the krusty crab\"  # False\n",
    "    s2 = \"Malayalam\"  # True\n",
    "    \n",
    "    sol = Solution()\n",
    "    print(sol.isPalindrome(s1))\n",
    "    print(sol.isPalindrome(s2))\n",
    "    # print(sol.isPalindrome(nums_str))"
   ]
  },
  {
   "cell_type": "markdown",
   "metadata": {},
   "source": [
    "### Summary\n",
    "\n",
    "**Question:** Given a string, after removing all the non-alphanumeric characters and converting it to lowercase, check if the resultant string reads the same from forward and backward, such a string is called <ins>Palindrome string</ins>. Return True if it is palindrom else False.\n",
    "\n",
    "**Solution:** \n",
    "1. Using a two pointer approach, `left` on 0<sup>th</sup> and `right` on (N-1)<sup>th</sup> indices.  \n",
    "\n",
    "2. While left < right, check if the left index character AND right index character both are <ins>alphanumeric</ins>.  \n",
    "\n",
    "    - If so then check if the <ins>lowercase version</ins> of both characters aren't equal (indicating reading from forward and backword isn't the same), if so return False.  \n",
    "\n",
    "    - Else just increment and decrement both left and right indices respectively.  \n",
    "\n",
    "3. If the left index character is not alphanumeric, increment left.  \n",
    "\n",
    "4. Similarly, if the right index character is not alphanumeric, decrement right.\n",
    "\n",
    "    Time: O(n)  \n",
    "    Space: O(1)\n",
    "\n",
    "    "
   ]
  },
  {
   "cell_type": "markdown",
   "metadata": {},
   "source": []
  }
 ],
 "metadata": {
  "kernelspec": {
   "display_name": ".venv",
   "language": "python",
   "name": "python3"
  },
  "language_info": {
   "codemirror_mode": {
    "name": "ipython",
    "version": 3
   },
   "file_extension": ".py",
   "mimetype": "text/x-python",
   "name": "python",
   "nbconvert_exporter": "python",
   "pygments_lexer": "ipython3",
   "version": "3.12.3"
  }
 },
 "nbformat": 4,
 "nbformat_minor": 2
}
