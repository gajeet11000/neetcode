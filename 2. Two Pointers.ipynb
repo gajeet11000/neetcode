{
 "cells": [
  {
   "cell_type": "markdown",
   "metadata": {},
   "source": [
    "# File Input Reader Code"
   ]
  },
  {
   "cell_type": "code",
   "execution_count": 2,
   "metadata": {},
   "outputs": [],
   "source": [
    "import builtins\n",
    "from typing import *\n",
    "\n",
    "class GlobalFileInput:\n",
    "    def __init__(self, file_path='input.txt'):\n",
    "        self.file_path = file_path\n",
    "        self.file = None\n",
    "        self.original_input = builtins.input\n",
    "    \n",
    "    def start(self):\n",
    "        self.file = open(self.file_path, 'r')\n",
    "        builtins.input = self.file_input\n",
    "\n",
    "    def stop(self):\n",
    "        if self.file:\n",
    "            builtins.input = self.original_input\n",
    "            self.file.close()\n",
    "\n",
    "    def file_input(self, prompt=''):\n",
    "        return self.file.readline().strip()\n",
    "\n",
    "# Create an instance of GlobalFileInput and start it\n",
    "s = GlobalFileInput('input.txt')"
   ]
  },
  {
   "cell_type": "markdown",
   "metadata": {},
   "source": [
    "# Two Pointers"
   ]
  },
  {
   "cell_type": "markdown",
   "metadata": {},
   "source": [
    "## 1. [Valid Palindrome](https://leetcode.com/problems/valid-palindrome/description/)"
   ]
  },
  {
   "cell_type": "code",
   "execution_count": 8,
   "metadata": {},
   "outputs": [
    {
     "name": "stdout",
     "output_type": "stream",
     "text": [
      "False\n",
      "True\n"
     ]
    }
   ],
   "source": [
    "s.start()\n",
    "\n",
    "class Solution:\n",
    "    def isPalindrome(self, s: str) -> bool:\n",
    "        left, right = 0, len(s)-1\n",
    "        \n",
    "        while(left < right):\n",
    "            if s[left].isalnum():\n",
    "                if s[right].isalnum():\n",
    "                    if s[left].lower() != s[right].lower():\n",
    "                        return False\n",
    "                    left += 1\n",
    "                    right -= 1\n",
    "                else:\n",
    "                    right -= 1\n",
    "            else:\n",
    "                left += 1\n",
    "                \n",
    "        return True\n",
    "            \n",
    "    \n",
    "if __name__==\"__main__\":\n",
    "    # FOR CUSTOM INPUTS\n",
    "    # cus_str = input()\n",
    "    \n",
    "    s1 = \"is this the krusty crab\"  # False\n",
    "    s2 = \"Malayalam\"  # True\n",
    "    \n",
    "    sol = Solution()\n",
    "    print(sol.isPalindrome(s1))\n",
    "    print(sol.isPalindrome(s2))\n",
    "    # print(sol.isPalindrome(cus_str))"
   ]
  },
  {
   "cell_type": "markdown",
   "metadata": {},
   "source": [
    "### Summary\n",
    "\n",
    "**Question:** Given a string, after removing all the non-alphanumeric characters and converting it to lowercase, check if the resultant string reads the same from forward and backward, such a string is called <ins>Palindrome string</ins>. Return True if it is palindrom else False.\n",
    "\n",
    "**Solution:** \n",
    "1. Using a two pointer approach, `left` on 0<sup>th</sup> and `right` on (N-1)<sup>th</sup> indices.  \n",
    "\n",
    "2. While left < right, check if the left index character AND right index character both are <ins>alphanumeric</ins>.  \n",
    "\n",
    "    - If so then check if the <ins>lowercase version</ins> of both characters aren't equal (indicating reading from forward and backword isn't the same), if so return False.  \n",
    "\n",
    "    - Else just increment and decrement both left and right indices respectively.  \n",
    "\n",
    "3. If the left index character is not alphanumeric, increment left.  \n",
    "\n",
    "4. Similarly, if the right index character is not alphanumeric, decrement right.\n",
    "\n",
    "    Time: O(n)  \n",
    "    Space: O(1)\n",
    "\n",
    "    "
   ]
  },
  {
   "cell_type": "markdown",
   "metadata": {},
   "source": [
    "## 2. [Two Sum II - Input Array Is Sorted](https://leetcode.com/problems/two-sum-ii-input-array-is-sorted/description/)"
   ]
  },
  {
   "cell_type": "code",
   "execution_count": 10,
   "metadata": {},
   "outputs": [
    {
     "name": "stdout",
     "output_type": "stream",
     "text": [
      "[1, 2]\n",
      "[1, 3]\n"
     ]
    }
   ],
   "source": [
    "s.start()\n",
    "\n",
    "class Solution:\n",
    "    def twoSum(self, numbers: List[int], target: int) -> List[int]:\n",
    "        left, right = 0, len(numbers)-1\n",
    "        \n",
    "        while(left < right):\n",
    "            sum = numbers[left] + numbers[right]\n",
    "            if sum == target:\n",
    "                return [left+1, right+1]\n",
    "            elif sum < target:\n",
    "                left += 1\n",
    "            else:\n",
    "                right -= 1\n",
    "                \n",
    "if __name__==\"__main__\":\n",
    "    # FOR CUSTOM INPUTS\n",
    "    # numbers = [int(x) for x in input().split()]\n",
    "    # target = int(input())\n",
    "    \n",
    "    nums1 = [2, 7, 11, 15]\n",
    "    nums2 = [2, 3, 4]\n",
    "    \n",
    "    sol = Solution()\n",
    "    print(sol.twoSum(nums1, 9))  # [1, 2] (1-indexed)\n",
    "    print(sol.twoSum(nums2, 6))  # [1, 3] \n",
    "    # print(sol.twoSum(numbers, target))"
   ]
  },
  {
   "cell_type": "markdown",
   "metadata": {},
   "source": [
    "### Summary\n",
    "\n",
    "**Question:** Given an array of integers `numbers` in <ins>non-decreasing order</ins> and an integer `target`. Find the <ins>pair of two integer</ins> in the given array that <ins>sum up to the target integer</ins> and return the indices of the two integers.  \n",
    "\n",
    "There is <ins>exactly one solution</ins> and the returned <ins>indices must be 1-indexed</ins>.  \n",
    "\n",
    "**Solution:** \n",
    "\n",
    "1. Using two pointer approach, left at 0<sup>th</sup> index and right at (N-1)<sup>th</sup> index.  \n",
    "\n",
    "2. While left < right, calculate the sum of integers, at index left and right.\n",
    "\n",
    "    - If the <ins>sum is equal to target</ins>, return an array of left+1 and right+1 ( +1 for 1-indexed).\n",
    "\n",
    "    - If the <ins>sum is less than target</ins>, meaning we need to add a greater number than the current number to the sum and we know the numbers in the input array are increasing from left to right, so we increment left by one.  \n",
    "\n",
    "    - Similarly, if the <ins>sum is greater than target</ins>, meaning we need to add a smaller number than the current number to the sum and we know the numbers in the input array are decreasing from right to left, so we decrement right by one.\n",
    "\n",
    "    Time: O(n)  \n",
    "    Space: O(1)"
   ]
  },
  {
   "cell_type": "markdown",
   "metadata": {},
   "source": []
  }
 ],
 "metadata": {
  "kernelspec": {
   "display_name": ".venv",
   "language": "python",
   "name": "python3"
  },
  "language_info": {
   "codemirror_mode": {
    "name": "ipython",
    "version": 3
   },
   "file_extension": ".py",
   "mimetype": "text/x-python",
   "name": "python",
   "nbconvert_exporter": "python",
   "pygments_lexer": "ipython3",
   "version": "3.12.3"
  }
 },
 "nbformat": 4,
 "nbformat_minor": 2
}
